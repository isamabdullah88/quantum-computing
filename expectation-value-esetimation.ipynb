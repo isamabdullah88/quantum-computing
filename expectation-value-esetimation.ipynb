{
 "cells": [
  {
   "cell_type": "code",
   "execution_count": 1,
   "metadata": {},
   "outputs": [
    {
     "name": "stderr",
     "output_type": "stream",
     "text": [
      "/Users/isambalghari/MS Physics/Summer-23-24/Intro to Quantum Computing/Qiskit/.venv/lib/python3.9/site-packages/urllib3/__init__.py:35: NotOpenSSLWarning: urllib3 v2 only supports OpenSSL 1.1.1+, currently the 'ssl' module is compiled with 'LibreSSL 2.8.3'. See: https://github.com/urllib3/urllib3/issues/3020\n",
      "  warnings.warn(\n"
     ]
    }
   ],
   "source": [
    "from qiskit import QuantumCircuit\n",
    "from qiskit import quantum_info\n",
    "from qiskit.primitives import StatevectorEstimator, StatevectorSampler\n",
    "from qiskit.circuit import Parameter\n",
    "from qiskit_aer import AerSimulator\n",
    "from qiskit.visualization import plot_histogram, plot_distribution\n",
    "from qiskit_ibm_runtime import QiskitRuntimeService, SamplerV2\n",
    "from qiskit import transpile\n",
    "\n",
    "import numpy as np"
   ]
  },
  {
   "cell_type": "markdown",
   "metadata": {},
   "source": [
    "### Spin Glasses"
   ]
  },
  {
   "cell_type": "code",
   "execution_count": 9,
   "metadata": {},
   "outputs": [
    {
     "data": {
      "image/png": "[encoded data removed]",
      "text/plain": [
       "<Figure size 371.107x284.278 with 1 Axes>"
      ]
     },
     "execution_count": 9,
     "metadata": {},
     "output_type": "execute_result"
    }
   ],
   "source": [
    "circuit1 = QuantumCircuit(3)\n",
    "\n",
    "circuit1.h(0)\n",
    "circuit1.cx(0,1)\n",
    "circuit1.cx(1,2)\n",
    "\n",
    "circuit1.draw('mpl')"
   ]
  },
  {
   "cell_type": "code",
   "execution_count": 3,
   "metadata": {},
   "outputs": [
    {
     "data": {
      "text/latex": [
       "$$\\frac{\\sqrt{2}}{2} |000\\rangle+\\frac{\\sqrt{2}}{2} |111\\rangle$$"
      ],
      "text/plain": [
       "<IPython.core.display.Latex object>"
      ]
     },
     "execution_count": 3,
     "metadata": {},
     "output_type": "execute_result"
    }
   ],
   "source": [
    "ket0 = quantum_info.Statevector([1, 0])\n",
    "input_state = quantum_info.Statevector(ket0^ket0^ket0)\n",
    "ghz_state = input_state.evolve(circuit1)\n",
    "\n",
    "ghz_state.draw('latex')"
   ]
  },
  {
   "cell_type": "code",
   "execution_count": 4,
   "metadata": {},
   "outputs": [],
   "source": [
    "magnetization_opr = [quantum_info.SparsePauliOp(['IIZ', 'IZI', 'ZII'], [1/3, 1/3, 1/3])]\n",
    "hamiltonian_opr = [quantum_info.SparsePauliOp(['IZZ', 'ZIZ', 'ZZI', 'IIX', 'IXI', 'XII'], [1, 1, 1, -1, -1, -1])]\n",
    "\n",
    "SV_estimator_m = StatevectorEstimator()\n",
    "result_m = SV_estimator_m.run([(circuit1, magnetization_opr, None, 0.0001)]).result()\n",
    "\n",
    "SV_estimator_h = StatevectorEstimator()\n",
    "result_h = SV_estimator_h.run([(circuit1, hamiltonian_opr, None, 0.0001)]).result()\n"
   ]
  },
  {
   "cell_type": "code",
   "execution_count": 5,
   "metadata": {},
   "outputs": [
    {
     "name": "stdout",
     "output_type": "stream",
     "text": [
      "Expected value of M: -0.00\n",
      "Expected value of H: 3.00\n"
     ]
    }
   ],
   "source": [
    "print(f\"Expected value of M: {result_m[0].data.evs[0]:.02f}\")\n",
    "print(f\"Expected value of H: {result_h[0].data.evs[0]:.02f}\")"
   ]
  },
  {
   "cell_type": "markdown",
   "metadata": {},
   "source": [
    "#### (c):"
   ]
  },
  {
   "cell_type": "code",
   "execution_count": 10,
   "metadata": {},
   "outputs": [
    {
     "data": {
      "image/png": "[encoded data removed]",
      "text/plain": [
       "<Figure size 454.719x284.278 with 1 Axes>"
      ]
     },
     "execution_count": 10,
     "metadata": {},
     "output_type": "execute_result"
    }
   ],
   "source": [
    "alpha = Parameter('alpha')\n",
    "beta = Parameter('beta')\n",
    "gamma = Parameter('gamma')\n",
    "\n",
    "circuit1.rz(alpha, 0)\n",
    "circuit1.rz(beta, 1)\n",
    "circuit1.rz(gamma, 2)\n",
    "circuit1.draw('mpl')"
   ]
  },
  {
   "cell_type": "code",
   "execution_count": 11,
   "metadata": {},
   "outputs": [
    {
     "name": "stdout",
     "output_type": "stream",
     "text": [
      "Expected value of M: [-0.00,-0.00]\n",
      "Expected value of H: [3.00,3.00]\n"
     ]
    }
   ],
   "source": [
    "SV_estimator = StatevectorEstimator()\n",
    "\n",
    "result_m = SV_estimator.run([(circuit1, magnetization_opr, [[np.pi/6, np.pi/5, np.pi/4], [np.pi/6, np.pi/5, np.pi/4]], 0.001)]).result()\n",
    "result_h = SV_estimator.run([(circuit1, hamiltonian_opr, [[np.pi/6, np.pi/5, np.pi/4], [np.pi/6, np.pi/5, np.pi/4]], 0.001)]).result()\n",
    "\n",
    "print(f\"Expected value of M: [{result_m[0].data.evs[0]:.02f},{result_m[0].data.evs[1]:.02f}]\")\n",
    "print(f\"Expected value of H: [{result_h[0].data.evs[0]:.02f},{result_h[0].data.evs[1]:.02f}]\")"
   ]
  },
  {
   "cell_type": "markdown",
   "metadata": {},
   "source": [
    "This distribution is much accurate compared to the result of implementation with ancilla qubit."
   ]
  }
 ],
 "metadata": {
  "kernelspec": {
   "display_name": ".venv",
   "language": "python",
   "name": "python3"
  },
  "language_info": {
   "codemirror_mode": {
    "name": "ipython",
    "version": 3
   },
   "file_extension": ".py",
   "mimetype": "text/x-python",
   "name": "python",
   "nbconvert_exporter": "python",
   "pygments_lexer": "ipython3",
   "version": "3.9.6"
  }
 },
 "nbformat": 4,
 "nbformat_minor": 2
}
